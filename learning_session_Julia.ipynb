{
 "cells": [
  {
   "cell_type": "markdown",
   "metadata": {},
   "source": [
    "Go to https://julialang.org/downloads/Install julia stable release according to your system specsOpen Julia (Allow Julia to access the Terminal)println(\"Hello World\")\n",
    "using PkgPkg.add(\"IJulia\")\n",
    "Open anaconda and New -> open Juia_version"
   ]
  },
  {
   "cell_type": "markdown",
   "metadata": {},
   "source": [
    "Julia is a modern, expressive, high-performance programming language designed for scientific\n",
    "computation and data manipulation.\n",
    "\n",
    "Launched in 2012, Julia is an open-source language that combines the interactivity and syntax of 'scripting' languages, such as Python, Matlab and R, with the speed of 'compiled' languages such as Fortran and C\n",
    "\n",
    "numerical performance of python and R can be disappointing\n",
    "It proves as an excellent option for numerical computing and can solve bigger & complex codes in much less time. \n",
    "Julia was primarily designed keeping in mind its high-speed performance that is incredibly faster than any other. Its programs are compiled to the efficient native code for the multiple platforms via LLVM. \n",
    "\n",
    "superb support for parallelization\n",
    "Multiple Dispatch Julia employs multiple dispatch as a paradigm which makes it fairly generic and therefore, easy to express several object-oriented and functional programming patterns. While Julias dispatch is not only faster, it also makes for its inheritance to be viable inside of Julia as well as makes a function extendable. It also serves great in case of package extensions.\n",
    "\n",
    "Google says its great for ML based on Usabiliy + Technical Merit\n",
    "\n",
    "Forward mode automatic differentiation AutoDiff\n",
    "\n",
    "Symbolic Mahematics in Julia via symata is cool\n"
   ]
  },
  {
   "cell_type": "code",
   "execution_count": 1,
   "metadata": {},
   "outputs": [
    {
     "name": "stdout",
     "output_type": "stream",
     "text": [
      "hello world\n"
     ]
    }
   ],
   "source": [
    "println(\"hello world\")\n"
   ]
  },
  {
   "cell_type": "code",
   "execution_count": 2,
   "metadata": {},
   "outputs": [
    {
     "data": {
      "text/plain": [
       "4×2 LinearAlgebra.Adjoint{Int64,Array{Int64,2}}:\n",
       "  0   2\n",
       "  1  -1\n",
       " -2   3\n",
       "  1   0"
      ]
     },
     "execution_count": 2,
     "metadata": {},
     "output_type": "execute_result"
    }
   ],
   "source": [
    "H = [0 1 -2 1; 2 -1 3 0]\n",
    "H'"
   ]
  },
  {
   "cell_type": "code",
   "execution_count": 3,
   "metadata": {},
   "outputs": [
    {
     "data": {
      "text/plain": [
       "2-element Array{Int64,1}:\n",
       "  3\n",
       " -4"
      ]
     },
     "execution_count": 3,
     "metadata": {},
     "output_type": "execute_result"
    }
   ],
   "source": [
    "# Matrix-vector multiplication\n",
    "A = [0 2 -1; -2 1 1]\n",
    "x = [2, 1, -1]\n",
    "A*x"
   ]
  },
  {
   "cell_type": "code",
   "execution_count": 4,
   "metadata": {},
   "outputs": [],
   "source": [
    "using LinearAlgebra"
   ]
  },
  {
   "cell_type": "code",
   "execution_count": 5,
   "metadata": {},
   "outputs": [
    {
     "data": {
      "text/plain": [
       "2"
      ]
     },
     "execution_count": 5,
     "metadata": {},
     "output_type": "execute_result"
    }
   ],
   "source": [
    "rank(diagm([1, 0, 2]))"
   ]
  },
  {
   "cell_type": "code",
   "execution_count": 6,
   "metadata": {},
   "outputs": [
    {
     "data": {
      "text/plain": [
       "2-element Array{Float64,1}:\n",
       " 32.0\n",
       " 18.0"
      ]
     },
     "execution_count": 6,
     "metadata": {},
     "output_type": "execute_result"
    }
   ],
   "source": [
    "A = [1 0; 1 -2]; b = [32; -4];\n",
    "A \\ b #This is faster than x=inv(A)*b, which first computes the inverse of A and then multiplies it with b.\n",
    "\n",
    "#If A is square, this syntax solves the linear system  Ax=b . \n",
    "#Therefore, it returns x such that A * x = b. If A is rectangular, \n",
    "#it solves for the least-squares solution to the problem."
   ]
  },
  {
   "cell_type": "code",
   "execution_count": 33,
   "metadata": {},
   "outputs": [
    {
     "data": {
      "text/plain": [
       "3-element Array{Float64,1}:\n",
       " -1.7391304347826084\n",
       " -1.1086956521739126\n",
       " -1.4565217391304346"
      ]
     },
     "execution_count": 33,
     "metadata": {},
     "output_type": "execute_result"
    }
   ],
   "source": [
    "B = [1.5 2 -4; 2 -1 -3; -4 -3 5]\n",
    "sB = Symmetric(B)\n",
    "x = [1; 2; 3]\n",
    "sB\\x\n",
    "#The \\ operation here performs the linear solution. The left-division operator is pretty powerful \n",
    "#and it's easy to write compact, readable code that is flexible enough to solve all sorts of systems of linear equations."
   ]
  },
  {
   "cell_type": "code",
   "execution_count": 7,
   "metadata": {},
   "outputs": [
    {
     "data": {
      "text/plain": [
       "\"function back_subst(R,b)\\nn = length(b)\\nx = zeros(n)\\n    for i=n:-1:1\\n    x[i] = (b[i] - R[i,i+1:n]'*x[i+1:n]) / R[i,i]\\n    end\\n    return x\\n    end;\\n\\nx = back_subst(A,b);\\n#norm(A*x-b)\\n\\nA*x-b\""
      ]
     },
     "execution_count": 7,
     "metadata": {},
     "output_type": "execute_result"
    }
   ],
   "source": [
    "\"\"\"function back_subst(R,b)\n",
    "n = length(b)\n",
    "x = zeros(n)\n",
    "    for i=n:-1:1\n",
    "    x[i] = (b[i] - R[i,i+1:n]'*x[i+1:n]) / R[i,i]\n",
    "    end\n",
    "    return x\n",
    "    end;\n",
    "\n",
    "x = back_subst(A,b);\n",
    "#norm(A*x-b)\n",
    "\n",
    "A*x-b\"\"\""
   ]
  },
  {
   "cell_type": "markdown",
   "metadata": {},
   "source": [
    "Matrix division using a polyalgorithm. For input matrices A and B, the result X is such that A*X == B when A is square. The solver that is used depends upon the structure of A. If A is upper or lower triangular (or diagonal), no factorization of A is required and the system is solved with either forward or backward substitution. For non-triangular square matrices, an LU factorization is used.\n",
    "\n",
    "For rectangular A the result is the minimum-norm least squares solution computed by a pivoted QR factorization of A and a rank estimate of A based on the R factor.\n",
    "\n",
    "When A is sparse, a similar polyalgorithm is used. For indefinite matrices, the LDLt factorization does not use pivoting during the numerical factorization and therefore the procedure can fail even for invertible matrices."
   ]
  },
  {
   "cell_type": "code",
   "execution_count": 8,
   "metadata": {},
   "outputs": [
    {
     "data": {
      "text/plain": [
       "3×1 Array{Float64,2}:\n",
       " 0.0\n",
       " 0.0\n",
       " 1.0"
      ]
     },
     "execution_count": 8,
     "metadata": {},
     "output_type": "execute_result"
    }
   ],
   "source": [
    "M = [1 0 0; 0 1 0; 1 0 0]\n",
    "\n",
    "nullspace(M) #Basis for nullspace of M."
   ]
  },
  {
   "cell_type": "code",
   "execution_count": 9,
   "metadata": {},
   "outputs": [
    {
     "data": {
      "text/plain": [
       "3×3 Array{Float64,2}:\n",
       "   1.5   2.0  -4.0\n",
       "   3.0  -1.0  -6.0\n",
       " -10.0   2.3   4.0"
      ]
     },
     "execution_count": 9,
     "metadata": {},
     "output_type": "execute_result"
    }
   ],
   "source": [
    "A = [1.5 2 -4; 3 -1 -6; -10 2.3 4]"
   ]
  },
  {
   "cell_type": "code",
   "execution_count": 10,
   "metadata": {},
   "outputs": [
    {
     "data": {
      "text/plain": [
       "LU{Float64,Array{Float64,2}}\n",
       "L factor:\n",
       "3×3 Array{Float64,2}:\n",
       "  1.0    0.0       0.0\n",
       " -0.15   1.0       0.0\n",
       " -0.3   -0.132196  1.0\n",
       "U factor:\n",
       "3×3 Array{Float64,2}:\n",
       " -10.0  2.3     4.0\n",
       "   0.0  2.345  -3.4\n",
       "   0.0  0.0    -5.24947"
      ]
     },
     "execution_count": 10,
     "metadata": {},
     "output_type": "execute_result"
    }
   ],
   "source": [
    "factorize(A)"
   ]
  },
  {
   "cell_type": "code",
   "execution_count": 11,
   "metadata": {},
   "outputs": [
    {
     "data": {
      "text/plain": [
       "3×3 Array{Int64,2}:\n",
       " 1  2  3\n",
       " 4  1  6\n",
       " 7  8  1"
      ]
     },
     "execution_count": 11,
     "metadata": {},
     "output_type": "execute_result"
    }
   ],
   "source": [
    "A = [1 2 3; 4 1 6; 7 8 1]"
   ]
  },
  {
   "cell_type": "code",
   "execution_count": 12,
   "metadata": {},
   "outputs": [
    {
     "data": {
      "text/plain": [
       "3"
      ]
     },
     "execution_count": 12,
     "metadata": {},
     "output_type": "execute_result"
    }
   ],
   "source": [
    "tr(A)#Matrix trace. Sums the diagonal elements of M."
   ]
  },
  {
   "cell_type": "code",
   "execution_count": 13,
   "metadata": {},
   "outputs": [
    {
     "data": {
      "text/plain": [
       "104.0"
      ]
     },
     "execution_count": 13,
     "metadata": {},
     "output_type": "execute_result"
    }
   ],
   "source": [
    "det(A)"
   ]
  },
  {
   "cell_type": "code",
   "execution_count": 14,
   "metadata": {},
   "outputs": [
    {
     "data": {
      "text/plain": [
       "3×3 Transpose{Int64,Array{Int64,2}}:\n",
       " 1  4  7\n",
       " 2  1  8\n",
       " 3  6  1"
      ]
     },
     "execution_count": 14,
     "metadata": {},
     "output_type": "execute_result"
    }
   ],
   "source": [
    "T = transpose(A)"
   ]
  },
  {
   "cell_type": "code",
   "execution_count": 15,
   "metadata": {},
   "outputs": [
    {
     "data": {
      "text/plain": [
       "3×3 Array{Float64,2}:\n",
       " -0.451923   0.211538    0.0865385\n",
       "  0.365385  -0.192308    0.0576923\n",
       "  0.240385   0.0576923  -0.0673077"
      ]
     },
     "execution_count": 15,
     "metadata": {},
     "output_type": "execute_result"
    }
   ],
   "source": [
    "inv(A)#Matrix inverse. Computes matrix N such that A * N = I, where I is the identity matrix. Computed by solving the left-division N = A \\ I."
   ]
  },
  {
   "cell_type": "code",
   "execution_count": 16,
   "metadata": {},
   "outputs": [
    {
     "data": {
      "text/plain": [
       "2×2 Array{Float64,2}:\n",
       " -4.0  -17.0\n",
       "  2.0    2.0"
      ]
     },
     "execution_count": 16,
     "metadata": {},
     "output_type": "execute_result"
    }
   ],
   "source": [
    "A = [-4. -17.; 2. 2.]"
   ]
  },
  {
   "cell_type": "markdown",
   "metadata": {},
   "source": [
    "Matrix factorization type of the eigenvalue/spectral decomposition of a square matrix A. This is the return type of eigen, the corresponding matrix factorization function.\n",
    "\n",
    "If F::Eigen is the factorization object, the eigenvalues can be obtained via F.values and the eigenvectors as the columns of the matrix F.vectors. (The kth eigenvector can be obtained from the slice F.vectors[:, k].)\n",
    "\n",
    "Iterating the decomposition produces the components F.values and F.vectors."
   ]
  },
  {
   "cell_type": "code",
   "execution_count": 17,
   "metadata": {},
   "outputs": [
    {
     "data": {
      "text/plain": [
       "Eigen{Float64,Float64,Array{Float64,2},Array{Float64,1}}\n",
       "values:\n",
       "3-element Array{Float64,1}:\n",
       "  1.0\n",
       "  3.0\n",
       " 18.0\n",
       "vectors:\n",
       "3×3 Array{Float64,2}:\n",
       " 1.0  0.0  0.0\n",
       " 0.0  1.0  0.0\n",
       " 0.0  0.0  1.0"
      ]
     },
     "execution_count": 17,
     "metadata": {},
     "output_type": "execute_result"
    }
   ],
   "source": [
    "F = eigen([1.0 0.0 0.0; 0.0 3.0 0.0; 0.0 0.0 18.0])"
   ]
  },
  {
   "cell_type": "code",
   "execution_count": 18,
   "metadata": {},
   "outputs": [
    {
     "data": {
      "text/plain": [
       "2-element Array{Complex{Float64},1}:\n",
       " -1.0 - 5.0im\n",
       " -1.0 + 5.0im"
      ]
     },
     "execution_count": 18,
     "metadata": {},
     "output_type": "execute_result"
    }
   ],
   "source": [
    "eigvals(A)\n",
    "\n",
    "λ = eigvals(A)  # This is fun , type \\lambda + <tab>.  Other characters work too!\n",
    "λ"
   ]
  },
  {
   "cell_type": "code",
   "execution_count": 19,
   "metadata": {},
   "outputs": [
    {
     "data": {
      "text/plain": [
       "2×2 Array{Complex{Float64},2}:\n",
       "  0.945905-0.0im        0.945905+0.0im\n",
       " -0.166924+0.278207im  -0.166924-0.278207im"
      ]
     },
     "execution_count": 19,
     "metadata": {},
     "output_type": "execute_result"
    }
   ],
   "source": [
    "eigvecs(A)"
   ]
  },
  {
   "cell_type": "code",
   "execution_count": 20,
   "metadata": {},
   "outputs": [
    {
     "data": {
      "text/plain": [
       "2-element Array{Float64,1}:\n",
       " 1.0\n",
       " 4.0"
      ]
     },
     "execution_count": 20,
     "metadata": {},
     "output_type": "execute_result"
    }
   ],
   "source": [
    "diag_matrix = [1 0; 0 4]\n",
    "eigvals(diag_matrix)"
   ]
  },
  {
   "cell_type": "code",
   "execution_count": 21,
   "metadata": {},
   "outputs": [
    {
     "data": {
      "text/plain": [
       "3×2 Array{Float64,2}:\n",
       " 3.0  -6.0\n",
       " 4.0  -8.0\n",
       " 0.0   1.0"
      ]
     },
     "execution_count": 21,
     "metadata": {},
     "output_type": "execute_result"
    }
   ],
   "source": [
    "A = [3.0 -6.0; 4.0 -8.0; 0.0 1.0]"
   ]
  },
  {
   "cell_type": "code",
   "execution_count": 22,
   "metadata": {},
   "outputs": [
    {
     "data": {
      "text/plain": [
       "LinearAlgebra.QRCompactWY{Float64,Array{Float64,2}}\n",
       "Q factor:\n",
       "3×3 LinearAlgebra.QRCompactWYQ{Float64,Array{Float64,2}}:\n",
       " -0.6   0.0   0.8\n",
       " -0.8   0.0  -0.6\n",
       "  0.0  -1.0   0.0\n",
       "R factor:\n",
       "2×2 Array{Float64,2}:\n",
       " -5.0  10.0\n",
       "  0.0  -1.0"
      ]
     },
     "execution_count": 22,
     "metadata": {},
     "output_type": "execute_result"
    }
   ],
   "source": [
    "F = qr(A)"
   ]
  },
  {
   "cell_type": "markdown",
   "metadata": {},
   "source": [
    "Matrix factorization type of the singular value decomposition (SVD) of a matrix A. This is the return type of svd(_), the corresponding matrix factorization function.\n",
    "\n",
    "If F::SVD is the factorization object, U, S, V and Vt can be obtained via F.U, F.S, F.V and F.Vt, such that A = U * Diagonal(S) * Vt. The singular values in S are sorted in descending order.\n",
    "\n",
    "Iterating the decomposition produces the components U, S, and V."
   ]
  },
  {
   "cell_type": "code",
   "execution_count": 23,
   "metadata": {},
   "outputs": [],
   "source": [
    "#SVD\n",
    "\n",
    "\n",
    "A = rand(4,3);\n",
    "\n"
   ]
  },
  {
   "cell_type": "code",
   "execution_count": 24,
   "metadata": {},
   "outputs": [
    {
     "data": {
      "text/plain": [
       "SVD{Float64,Float64,Array{Float64,2}}\n",
       "U factor:\n",
       "4×3 Array{Float64,2}:\n",
       " -0.618703   0.116813   0.136644\n",
       " -0.632796  -0.623247  -0.275902\n",
       " -0.282324   0.694139  -0.623477\n",
       " -0.370228   0.340719   0.718667\n",
       "singular values:\n",
       "3-element Array{Float64,1}:\n",
       " 1.664744813875574\n",
       " 0.8693144761423958\n",
       " 0.22211888779408687\n",
       "Vt factor:\n",
       "3×3 Array{Float64,2}:\n",
       " -0.697268  -0.48165   -0.530878\n",
       " -0.282629   0.865342  -0.413888\n",
       "  0.65874   -0.13855   -0.739503"
      ]
     },
     "execution_count": 24,
     "metadata": {},
     "output_type": "execute_result"
    }
   ],
   "source": [
    "F = svd(A); # Store the Factorization Object\n",
    "F"
   ]
  },
  {
   "cell_type": "code",
   "execution_count": 25,
   "metadata": {},
   "outputs": [
    {
     "data": {
      "text/plain": [
       "true"
      ]
     },
     "execution_count": 25,
     "metadata": {},
     "output_type": "execute_result"
    }
   ],
   "source": [
    "A ≈ F.U * Diagonal(F.S) * F.Vt\n"
   ]
  },
  {
   "cell_type": "code",
   "execution_count": 26,
   "metadata": {},
   "outputs": [
    {
     "data": {
      "text/plain": [
       "true"
      ]
     },
     "execution_count": 26,
     "metadata": {},
     "output_type": "execute_result"
    }
   ],
   "source": [
    "U, S, V = F; # destructuring via iteration\n",
    "A ≈ U * Diagonal(S) * V'"
   ]
  },
  {
   "cell_type": "code",
   "execution_count": 27,
   "metadata": {},
   "outputs": [
    {
     "data": {
      "text/plain": [
       "true"
      ]
     },
     "execution_count": 27,
     "metadata": {},
     "output_type": "execute_result"
    }
   ],
   "source": [
    "Uonly, = svd(A); # Store U only\n",
    "\n",
    "Uonly == U"
   ]
  },
  {
   "cell_type": "markdown",
   "metadata": {},
   "source": [
    "Solving least squares problems\n",
    "Julia uses the backslash operator to denote the least squares approximate solution: xhat = A\\b."
   ]
  },
  {
   "cell_type": "code",
   "execution_count": 28,
   "metadata": {},
   "outputs": [
    {
     "data": {
      "text/plain": [
       "4.279032816527531e-16"
      ]
     },
     "execution_count": 28,
     "metadata": {},
     "output_type": "execute_result"
    }
   ],
   "source": [
    "A = randn(100,20); b = randn(100);\n",
    "x1 = A\\b; # Least squares using backslash operator\n",
    "x2 = inv(A'*A)*(A'*b); # Using formula\n",
    "x3 = pinv(A)*b; # Using pseudo-inverse\n",
    "Q, R = qr(A);\n",
    "Q = Matrix(Q);\n",
    "x4 = R\\(Q'*b); # Using QR factorization\n",
    "norm(x1-x2)"
   ]
  },
  {
   "cell_type": "code",
   "execution_count": 29,
   "metadata": {},
   "outputs": [
    {
     "data": {
      "text/plain": [
       "5.621817332665476e-16"
      ]
     },
     "execution_count": 29,
     "metadata": {},
     "output_type": "execute_result"
    }
   ],
   "source": [
    "norm(x2-x3)"
   ]
  },
  {
   "cell_type": "code",
   "execution_count": 30,
   "metadata": {},
   "outputs": [
    {
     "data": {
      "text/plain": [
       "6.547880661026478e-16"
      ]
     },
     "execution_count": 30,
     "metadata": {},
     "output_type": "execute_result"
    }
   ],
   "source": [
    "norm(x3-x4)"
   ]
  },
  {
   "cell_type": "markdown",
   "metadata": {},
   "source": [
    "Matrix least squares. Let’s solve multiple least squares problems with the same\n",
    "matrix A and different vectors b."
   ]
  },
  {
   "cell_type": "code",
   "execution_count": 31,
   "metadata": {},
   "outputs": [
    {
     "data": {
      "text/plain": [
       "1.2632849031376745e-16"
      ]
     },
     "execution_count": 31,
     "metadata": {},
     "output_type": "execute_result"
    }
   ],
   "source": [
    "A = randn(1000,100); B = randn(1000,10);\n",
    "X = A\\B;\n",
    "# Check that third column of X is least squares solution\n",
    "# with third column of B\n",
    "x3 = A\\B[:,3];\n",
    "norm(X[:,3]-x3)"
   ]
  },
  {
   "cell_type": "code",
   "execution_count": null,
   "metadata": {},
   "outputs": [],
   "source": [
    "#REFERENCES\n",
    "\n",
    "#https://docs.julialang.org/en/v1/stdlib/LinearAlgebra/\n",
    "#https://juliabyexample.helpmanual.io/\n",
    "#https://github.com/ablaom/MachineLearningInJulia2020/blob/master/tutorials.jl\n",
    "#https://julia.quantecon.org/tools_and_techniques/linear_algebra.html\n",
    "#http://vmls-book.stanford.edu/vmls-julia-companion.pdf\n",
    "#https://www.youtube.com/watch?v=4igzy3bGVkQ\n"
   ]
  }
 ],
 "metadata": {
  "kernelspec": {
   "display_name": "Julia 1.5.0",
   "language": "julia",
   "name": "julia-1.5"
  },
  "language_info": {
   "file_extension": ".jl",
   "mimetype": "application/julia",
   "name": "julia",
   "version": "1.5.0"
  }
 },
 "nbformat": 4,
 "nbformat_minor": 4
}
